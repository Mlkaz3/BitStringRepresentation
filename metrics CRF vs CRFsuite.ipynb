{
 "cells": [
  {
   "cell_type": "markdown",
   "id": "e3a106e4-6a14-4912-bb53-4d0a8fd10942",
   "metadata": {},
   "source": [
    "# Metrics (CRF vs CRF-SUITE)"
   ]
  },
  {
   "cell_type": "code",
   "execution_count": 18,
   "id": "d9da4d01-8209-49eb-8373-07ebdd514efd",
   "metadata": {},
   "outputs": [],
   "source": [
    "def print_flat_classification_report(y_test, y_pred):\n",
    "    import sklearn_crfsuite\n",
    "    from sklearn_crfsuite import scorers\n",
    "    from sklearn_crfsuite import metrics\n",
    "    print(metrics.flat_classification_report(y_test, y_pred, digits=3\n",
    "))\n",
    "\n",
    "def print_classification_report(y_test, y_pred):\n",
    "    from sklearn.metrics import classification_report\n",
    "    import sklearn.metrics as metrics\n",
    "    print(classification_report(y_test, y_pred))"
   ]
  },
  {
   "cell_type": "code",
   "execution_count": 19,
   "id": "372bc2e5-42ff-42f5-8aba-5679fcf8c863",
   "metadata": {},
   "outputs": [],
   "source": [
    "from itertools import chain\n",
    "import nltk\n",
    "import sklearn\n",
    "import scipy.stats\n",
    "from sklearn.metrics import make_scorer\n",
    "# from sklearn.cross_validation import cross_val_score\n",
    "# from sklearn.grid_search import RandomizedSearchCV\n",
    "import sklearn_crfsuite\n",
    "from sklearn_crfsuite import scorers\n",
    "from sklearn_crfsuite import metrics\n",
    "y_test = [['A','B','c'], ['E','F','h']]\n",
    "y_pred = [['A','B','c'], ['E','F','G']]"
   ]
  },
  {
   "cell_type": "code",
   "execution_count": 20,
   "id": "f30f856f-3ee6-45ec-ad4f-fecf4b0072c9",
   "metadata": {},
   "outputs": [
    {
     "name": "stdout",
     "output_type": "stream",
     "text": [
      "              precision    recall  f1-score   support\n",
      "\n",
      "           A      1.000     1.000     1.000         1\n",
      "           B      1.000     1.000     1.000         1\n",
      "           E      1.000     1.000     1.000         1\n",
      "           F      1.000     1.000     1.000         1\n",
      "           G      0.000     0.000     0.000         0\n",
      "           c      1.000     1.000     1.000         1\n",
      "           h      0.000     0.000     0.000         1\n",
      "\n",
      "    accuracy                          0.833         6\n",
      "   macro avg      0.714     0.714     0.714         6\n",
      "weighted avg      0.833     0.833     0.833         6\n",
      "\n"
     ]
    }
   ],
   "source": [
    "print(metrics.flat_classification_report(y_test, y_pred, digits=3\n",
    "))"
   ]
  },
  {
   "cell_type": "code",
   "execution_count": 21,
   "id": "d642653a-ae06-441a-911f-8c8da4cf7267",
   "metadata": {},
   "outputs": [
    {
     "name": "stdout",
     "output_type": "stream",
     "text": [
      "              precision    recall  f1-score   support\n",
      "\n",
      "           A      1.000     1.000     1.000         1\n",
      "           B      1.000     1.000     1.000         1\n",
      "           E      1.000     1.000     1.000         1\n",
      "           F      1.000     1.000     1.000         1\n",
      "           G      0.000     0.000     0.000         0\n",
      "           c      1.000     1.000     1.000         1\n",
      "           h      0.000     0.000     0.000         1\n",
      "\n",
      "    accuracy                          0.833         6\n",
      "   macro avg      0.714     0.714     0.714         6\n",
      "weighted avg      0.833     0.833     0.833         6\n",
      "\n"
     ]
    }
   ],
   "source": [
    "print_flat_classification_report(y_test, y_pred)"
   ]
  },
  {
   "cell_type": "code",
   "execution_count": 22,
   "id": "9dd26ccf-375d-4153-a6fc-ee1e6c4e8ee8",
   "metadata": {},
   "outputs": [
    {
     "name": "stdout",
     "output_type": "stream",
     "text": [
      "              precision    recall  f1-score   support\n",
      "\n",
      "           A       1.00      1.00      1.00         1\n",
      "           B       1.00      1.00      1.00         1\n",
      "           E       1.00      1.00      1.00         1\n",
      "           F       1.00      1.00      1.00         1\n",
      "           G       0.00      0.00      0.00         0\n",
      "           c       1.00      1.00      1.00         1\n",
      "           h       0.00      0.00      0.00         1\n",
      "\n",
      "    accuracy                           0.83         6\n",
      "   macro avg       0.71      0.71      0.71         6\n",
      "weighted avg       0.83      0.83      0.83         6\n",
      "\n"
     ]
    }
   ],
   "source": [
    "from sklearn.metrics import classification_report\n",
    "import sklearn.metrics as metrics\n",
    "\n",
    "y_test = ['A','B','c','E','F','h']\n",
    "y_pred = ['A','B','c','E','F','G']\n",
    "# y_pred = _\n",
    "# y_true = true_label\n",
    "print(classification_report(y_test, y_pred))\n"
   ]
  },
  {
   "cell_type": "code",
   "execution_count": 23,
   "id": "eac6ac7a-525d-444e-b2ba-f1ad039354ac",
   "metadata": {},
   "outputs": [
    {
     "name": "stdout",
     "output_type": "stream",
     "text": [
      "              precision    recall  f1-score   support\n",
      "\n",
      "           A       1.00      1.00      1.00         1\n",
      "           B       1.00      1.00      1.00         1\n",
      "           E       1.00      1.00      1.00         1\n",
      "           F       1.00      1.00      1.00         1\n",
      "           G       0.00      0.00      0.00         0\n",
      "           c       1.00      1.00      1.00         1\n",
      "           h       0.00      0.00      0.00         1\n",
      "\n",
      "    accuracy                           0.83         6\n",
      "   macro avg       0.71      0.71      0.71         6\n",
      "weighted avg       0.83      0.83      0.83         6\n",
      "\n"
     ]
    }
   ],
   "source": [
    "print_classification_report(y_test, y_pred)"
   ]
  }
 ],
 "metadata": {
  "kernelspec": {
   "display_name": "melex-kernel",
   "language": "python",
   "name": "melex-kernel"
  },
  "language_info": {
   "codemirror_mode": {
    "name": "ipython",
    "version": 3
   },
   "file_extension": ".py",
   "mimetype": "text/x-python",
   "name": "python",
   "nbconvert_exporter": "python",
   "pygments_lexer": "ipython3",
   "version": "3.8.13"
  }
 },
 "nbformat": 4,
 "nbformat_minor": 5
}
