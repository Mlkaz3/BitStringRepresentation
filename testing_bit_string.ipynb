{
 "cells": [
  {
   "cell_type": "markdown",
   "id": "53289c41-b4ea-43a8-a4b4-3c1903becff6",
   "metadata": {},
   "source": [
    "# Bit String Extraction using brown-clustering from PyPI (yangyuan)\n",
    "\n",
    "Objectives: \n",
    "- Extract the bit string representation for words/tokens/texts \n",
    "- Store into a text file and soon to extract features for training pos tagging model\n",
    "\n",
    "References: \n",
    "- https://pypi.org/project/brown-clustering/\n",
    "- https://github.com/yangyuan/brown-clustering\n",
    "\n",
    "Package: \n",
    "`pip install brown-clustering`"
   ]
  },
  {
   "cell_type": "code",
   "execution_count": 10,
   "id": "a8f493d9-91c7-4ee3-99e7-0a0531af75fd",
   "metadata": {},
   "outputs": [
    {
     "name": "stdout",
     "output_type": "stream",
     "text": [
      "Vocab count: 5\n",
      "Token count: 8\n",
      "unique 2gram count: 7\n",
      "2gram count: 10.0\n",
      "Laplace smoothing: 0.5\n"
     ]
    },
    {
     "name": "stderr",
     "output_type": "stream",
     "text": [
      "100%|█████████████████████████████████████████████| 5/5 [00:01<00:00,  4.10it/s]\n"
     ]
    }
   ],
   "source": [
    "from brown_clustering import BigramCorpus, BrownClustering\n",
    "\n",
    "# use some tokenized and preprocessed data\n",
    "sentences = [\n",
    "    [\"This\", \"is\", \"an\", \"example\"],\n",
    "    [\"This\", \"is\", \"another\", \"example\"]\n",
    "]\n",
    "\n",
    "# create a corpus\n",
    "corpus = BigramCorpus(sentences, alpha=0.5, min_count=0)\n",
    "\n",
    "# (optional) print corpus statistics:\n",
    "corpus.print_stats()\n",
    "\n",
    "# create a clustering\n",
    "clustering = BrownClustering(corpus, m=4)\n",
    "\n",
    "# train the clustering\n",
    "clusters = clustering.train()\n"
   ]
  },
  {
   "cell_type": "code",
   "execution_count": 11,
   "id": "50caad29-8a38-45d3-b5e2-7483b63d2dd3",
   "metadata": {},
   "outputs": [],
   "source": [
    "# get codes for the words\n",
    "cluster_dict = clustering.codes()\n",
    "# {'an': '110', 'another': '111', 'This': '00', 'example': '01', 'is': '10'}"
   ]
  },
  {
   "cell_type": "code",
   "execution_count": 12,
   "id": "a6430241-162d-46f9-bf65-55784ab19306",
   "metadata": {},
   "outputs": [],
   "source": [
    "import json\n",
    "\n",
    "with open('test_bitstring_dictionary.txt', 'w') as convert_file:\n",
    "     convert_file.write(json.dumps(cluster_dict))"
   ]
  },
  {
   "cell_type": "code",
   "execution_count": 13,
   "id": "85d87a86-1a3e-4776-ac4d-33653ebf807e",
   "metadata": {},
   "outputs": [
    {
     "name": "stdout",
     "output_type": "stream",
     "text": [
      "Data type before reconstruction :  <class 'str'>\n",
      "Data type after reconstruction :  <class 'dict'>\n",
      "{'an': '110', 'another': '111', 'This': '00', 'example': '01', 'is': '10'}\n"
     ]
    }
   ],
   "source": [
    "# importing the module\n",
    "import json\n",
    "  \n",
    "# reading the data from the file\n",
    "with open('test_bitstring_dictionary.txt') as f:\n",
    "    data = f.read()\n",
    "\n",
    "print(\"Data type before reconstruction : \", type(data))\n",
    "      \n",
    "# reconstructing the data as a dictionary\n",
    "js = json.loads(data)\n",
    "  \n",
    "print(\"Data type after reconstruction : \", type(js))\n",
    "print(js)"
   ]
  }
 ],
 "metadata": {
  "kernelspec": {
   "display_name": "melex-kernel",
   "language": "python",
   "name": "melex-kernel"
  },
  "language_info": {
   "codemirror_mode": {
    "name": "ipython",
    "version": 3
   },
   "file_extension": ".py",
   "mimetype": "text/x-python",
   "name": "python",
   "nbconvert_exporter": "python",
   "pygments_lexer": "ipython3",
   "version": "3.8.13"
  }
 },
 "nbformat": 4,
 "nbformat_minor": 5
}
