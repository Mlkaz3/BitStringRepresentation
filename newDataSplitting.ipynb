{
 "cells": [
  {
   "cell_type": "code",
   "execution_count": 1,
   "id": "662bc6ad-3b73-4fca-b0a2-4cede6d22ca6",
   "metadata": {},
   "outputs": [],
   "source": [
    "import pandas as pd "
   ]
  },
  {
   "cell_type": "code",
   "execution_count": 2,
   "id": "fdda00ad-7066-447e-8274-34e580214ac1",
   "metadata": {},
   "outputs": [],
   "source": [
    "data = pd.read_csv(\"data_for_winnie.csv\")"
   ]
  },
  {
   "cell_type": "code",
   "execution_count": 3,
   "id": "7fff5488-29f6-436b-8c3e-d94ba62509f7",
   "metadata": {},
   "outputs": [
    {
     "data": {
      "text/html": [
       "<div>\n",
       "<style scoped>\n",
       "    .dataframe tbody tr th:only-of-type {\n",
       "        vertical-align: middle;\n",
       "    }\n",
       "\n",
       "    .dataframe tbody tr th {\n",
       "        vertical-align: top;\n",
       "    }\n",
       "\n",
       "    .dataframe thead th {\n",
       "        text-align: right;\n",
       "    }\n",
       "</style>\n",
       "<table border=\"1\" class=\"dataframe\">\n",
       "  <thead>\n",
       "    <tr style=\"text-align: right;\">\n",
       "      <th></th>\n",
       "      <th>tagged</th>\n",
       "    </tr>\n",
       "  </thead>\n",
       "  <tbody>\n",
       "    <tr>\n",
       "      <th>0</th>\n",
       "      <td>[('nak', 'VERB'), ('coin', 'NOUN'), ('oii', 'I...</td>\n",
       "    </tr>\n",
       "    <tr>\n",
       "      <th>1</th>\n",
       "      <td>[('Package-very', 'NOUN'), ('thin', 'ADJ'), ('...</td>\n",
       "    </tr>\n",
       "    <tr>\n",
       "      <th>2</th>\n",
       "      <td>[('Kaki', 'NOUN'), ('saiz', 'ADJ'), ('38', 'NU...</td>\n",
       "    </tr>\n",
       "    <tr>\n",
       "      <th>3</th>\n",
       "      <td>[('Tapi', 'CCONJ'), ('ingat', 'NOUN'), ('kan',...</td>\n",
       "    </tr>\n",
       "    <tr>\n",
       "      <th>4</th>\n",
       "      <td>[('2', 'NUM'), ('warne', 'NOUN'), ('seakan', '...</td>\n",
       "    </tr>\n",
       "  </tbody>\n",
       "</table>\n",
       "</div>"
      ],
      "text/plain": [
       "                                              tagged\n",
       "0  [('nak', 'VERB'), ('coin', 'NOUN'), ('oii', 'I...\n",
       "1  [('Package-very', 'NOUN'), ('thin', 'ADJ'), ('...\n",
       "2  [('Kaki', 'NOUN'), ('saiz', 'ADJ'), ('38', 'NU...\n",
       "3  [('Tapi', 'CCONJ'), ('ingat', 'NOUN'), ('kan',...\n",
       "4  [('2', 'NUM'), ('warne', 'NOUN'), ('seakan', '..."
      ]
     },
     "execution_count": 3,
     "metadata": {},
     "output_type": "execute_result"
    }
   ],
   "source": [
    "data.head()"
   ]
  },
  {
   "cell_type": "code",
   "execution_count": 4,
   "id": "1c07dd49-9b89-4128-8cc1-e1a390c83a72",
   "metadata": {},
   "outputs": [],
   "source": [
    "df = data.sample(frac=1)"
   ]
  },
  {
   "cell_type": "code",
   "execution_count": 5,
   "id": "994d9abe-1c9b-4c80-a193-5fd3903a7a4d",
   "metadata": {},
   "outputs": [
    {
     "data": {
      "text/html": [
       "<div>\n",
       "<style scoped>\n",
       "    .dataframe tbody tr th:only-of-type {\n",
       "        vertical-align: middle;\n",
       "    }\n",
       "\n",
       "    .dataframe tbody tr th {\n",
       "        vertical-align: top;\n",
       "    }\n",
       "\n",
       "    .dataframe thead th {\n",
       "        text-align: right;\n",
       "    }\n",
       "</style>\n",
       "<table border=\"1\" class=\"dataframe\">\n",
       "  <thead>\n",
       "    <tr style=\"text-align: right;\">\n",
       "      <th></th>\n",
       "      <th>tagged</th>\n",
       "    </tr>\n",
       "  </thead>\n",
       "  <tbody>\n",
       "    <tr>\n",
       "      <th>2148</th>\n",
       "      <td>[('good', 'ADJ'), ('value', 'NOUN'), ('for', '...</td>\n",
       "    </tr>\n",
       "    <tr>\n",
       "      <th>1773</th>\n",
       "      <td>[('good', 'ADJ')]</td>\n",
       "    </tr>\n",
       "    <tr>\n",
       "      <th>1710</th>\n",
       "      <td>[('semuanya', 'DET'), ('cukup', 'ADJ')]</td>\n",
       "    </tr>\n",
       "    <tr>\n",
       "      <th>712</th>\n",
       "      <td>[('谢谢', 'VERB'), ('你', 'PRON'), ('。', 'PUNCT')]</td>\n",
       "    </tr>\n",
       "    <tr>\n",
       "      <th>395</th>\n",
       "      <td>[('kwn', 'X'), ('suka', 'VERB'), ('.', 'PUNCT')]</td>\n",
       "    </tr>\n",
       "  </tbody>\n",
       "</table>\n",
       "</div>"
      ],
      "text/plain": [
       "                                                 tagged\n",
       "2148  [('good', 'ADJ'), ('value', 'NOUN'), ('for', '...\n",
       "1773                                  [('good', 'ADJ')]\n",
       "1710            [('semuanya', 'DET'), ('cukup', 'ADJ')]\n",
       "712     [('谢谢', 'VERB'), ('你', 'PRON'), ('。', 'PUNCT')]\n",
       "395    [('kwn', 'X'), ('suka', 'VERB'), ('.', 'PUNCT')]"
      ]
     },
     "execution_count": 5,
     "metadata": {},
     "output_type": "execute_result"
    }
   ],
   "source": [
    "df.head()"
   ]
  },
  {
   "cell_type": "code",
   "execution_count": 6,
   "id": "bbc98ef5-8101-4fb0-9323-77127ebb928d",
   "metadata": {},
   "outputs": [
    {
     "name": "stdout",
     "output_type": "stream",
     "text": [
      "training_sentences:  2003\n",
      "test_sentences:  501\n"
     ]
    }
   ],
   "source": [
    "cutoff = int(.80 * len(df))\n",
    "training_sentences = df[:cutoff]\n",
    "print(\"training_sentences: \",len(training_sentences))\n",
    "test_sentences = df[cutoff:]\n",
    "print(\"test_sentences: \",len(test_sentences))"
   ]
  },
  {
   "cell_type": "code",
   "execution_count": 7,
   "id": "e773525c-c60f-4a84-a2ef-c7c359358e50",
   "metadata": {},
   "outputs": [
    {
     "data": {
      "text/html": [
       "<div>\n",
       "<style scoped>\n",
       "    .dataframe tbody tr th:only-of-type {\n",
       "        vertical-align: middle;\n",
       "    }\n",
       "\n",
       "    .dataframe tbody tr th {\n",
       "        vertical-align: top;\n",
       "    }\n",
       "\n",
       "    .dataframe thead th {\n",
       "        text-align: right;\n",
       "    }\n",
       "</style>\n",
       "<table border=\"1\" class=\"dataframe\">\n",
       "  <thead>\n",
       "    <tr style=\"text-align: right;\">\n",
       "      <th></th>\n",
       "      <th>tagged</th>\n",
       "    </tr>\n",
       "  </thead>\n",
       "  <tbody>\n",
       "    <tr>\n",
       "      <th>2148</th>\n",
       "      <td>[('good', 'ADJ'), ('value', 'NOUN'), ('for', '...</td>\n",
       "    </tr>\n",
       "    <tr>\n",
       "      <th>1773</th>\n",
       "      <td>[('good', 'ADJ')]</td>\n",
       "    </tr>\n",
       "    <tr>\n",
       "      <th>1710</th>\n",
       "      <td>[('semuanya', 'DET'), ('cukup', 'ADJ')]</td>\n",
       "    </tr>\n",
       "    <tr>\n",
       "      <th>712</th>\n",
       "      <td>[('谢谢', 'VERB'), ('你', 'PRON'), ('。', 'PUNCT')]</td>\n",
       "    </tr>\n",
       "    <tr>\n",
       "      <th>395</th>\n",
       "      <td>[('kwn', 'X'), ('suka', 'VERB'), ('.', 'PUNCT')]</td>\n",
       "    </tr>\n",
       "  </tbody>\n",
       "</table>\n",
       "</div>"
      ],
      "text/plain": [
       "                                                 tagged\n",
       "2148  [('good', 'ADJ'), ('value', 'NOUN'), ('for', '...\n",
       "1773                                  [('good', 'ADJ')]\n",
       "1710            [('semuanya', 'DET'), ('cukup', 'ADJ')]\n",
       "712     [('谢谢', 'VERB'), ('你', 'PRON'), ('。', 'PUNCT')]\n",
       "395    [('kwn', 'X'), ('suka', 'VERB'), ('.', 'PUNCT')]"
      ]
     },
     "execution_count": 7,
     "metadata": {},
     "output_type": "execute_result"
    }
   ],
   "source": [
    "training_sentences.head()"
   ]
  },
  {
   "cell_type": "code",
   "execution_count": 8,
   "id": "ab8e8e76-502b-4934-9e4d-48bd8a9183ca",
   "metadata": {},
   "outputs": [],
   "source": [
    "training_sentences.to_csv(\"traindata_for_winnie.csv\", index=False)"
   ]
  },
  {
   "cell_type": "code",
   "execution_count": 9,
   "id": "08a918a6-976d-4901-bb38-181940752b35",
   "metadata": {},
   "outputs": [],
   "source": [
    "test_sentences.to_csv(\"testdata_for_winnie.csv\", index=False)"
   ]
  },
  {
   "cell_type": "code",
   "execution_count": null,
   "id": "d6e4eecf-b84a-49fe-9d36-d59b9e07841e",
   "metadata": {},
   "outputs": [],
   "source": []
  }
 ],
 "metadata": {
  "kernelspec": {
   "display_name": "melex-kernel",
   "language": "python",
   "name": "melex-kernel"
  },
  "language_info": {
   "codemirror_mode": {
    "name": "ipython",
    "version": 3
   },
   "file_extension": ".py",
   "mimetype": "text/x-python",
   "name": "python",
   "nbconvert_exporter": "python",
   "pygments_lexer": "ipython3",
   "version": "3.8.13"
  }
 },
 "nbformat": 4,
 "nbformat_minor": 5
}
